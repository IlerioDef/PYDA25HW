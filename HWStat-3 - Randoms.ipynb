{
 "cells": [
  {
   "cell_type": "markdown",
   "metadata": {},
   "source": [
    "## Домашнее задание к лекции «Случайные события. Случайные величины»\n",
    "\n",
    "> Текст задания см. на скриншоте http://prntscr.com/uh35yg\n",
    "\n",
    "Смоделировать игру против лотерейного автомата типа “777”. Игрок платит 1 руб., после чего выпадает случайное целое число, равномерно распределенное от 0 до 999. При некоторых значениях числа игрок получает выигрыш.\n",
    "\n",
    "* 777: 200 руб.\n",
    "* 999: 100 руб.\n",
    "* 555: 50 руб.\n",
    "* 333: 15 руб.\n",
    "* 111: 10 руб.\n",
    "* *77: 5 руб.\n",
    "* **7: 3 руб.\n",
    "* *00: 2 руб.\n",
    "* **0: 1 руб.\n",
    "\n",
    "Вопросы:\n",
    "\n",
    "    Выгодна ли игра игроку?\n",
    "    Сколько в среднем приобретает или теряет игрок за одну игру?\n",
    "\n",
    "**Дополнительное задание повышенной сложности. **\n",
    "\n",
    "Теоретически рассчитать средний выигрыш (проигрыш) и сравнить с результатами моделирования\n",
    "\n",
    "    *– любая цифра\n",
    "\n"
   ]
  },
  {
   "cell_type": "code",
   "execution_count": 1,
   "metadata": {},
   "outputs": [],
   "source": [
    "import pandas as pd\n",
    "import numpy as np\n"
   ]
  },
  {
   "cell_type": "code",
   "execution_count": 2,
   "metadata": {},
   "outputs": [
    {
     "name": "stdout",
     "output_type": "stream",
     "text": [
      "CPU times: user 2 µs, sys: 1 µs, total: 3 µs\n",
      "Wall time: 4.05 µs\n"
     ]
    }
   ],
   "source": [
    "%time\n",
    "wallet = 0 #первый рубль не считаем,как и последующие в случае . \n",
    "plays = 10000 #количество игр\n",
    "win_lose_ratio = pd.DataFrame({\"results\":[]}) #собираем статистику по выигрыш/проигрыш, в бинарном формате\n",
    "bets = {777:200,999:100,\n",
    "        555:50,333:15,\n",
    "        111:10\n",
    "       } #Выигрыш крупных ставок\n",
    "\n",
    "for i in range(plays): \n",
    "    bet = np.random.randint(0,1000)\n",
    "    wallet -= 1\n",
    "    if bet in bets.keys():\n",
    "        wallet += bets[bet]\n",
    "        win_lose_ratio = win_lose_ratio.append({\"results\":\"Win\"},ignore_index=True)\n",
    "    elif (bet - 77) % 100 == 0: # *77: 5 руб.\n",
    "        wallet += 5\n",
    "        win_lose_ratio = win_lose_ratio.append({\"results\":\"Win\"},ignore_index=True)    \n",
    "    elif (bet-7) % 10 == 0:  # **7: 3 руб.\n",
    "        wallet += 3\n",
    "        win_lose_ratio = win_lose_ratio.append({\"results\":\"Win\"},ignore_index=True)\n",
    "    elif bet % 100 == 0: #*00: 2 руб.\n",
    "        wallet += 2\n",
    "        win_lose_ratio = win_lose_ratio.append({\"results\":\"Win\"},ignore_index=True)\n",
    "    elif bet % 10 == 0: #**0: 1 руб\n",
    "        wallet += 1\n",
    "        win_lose_ratio = win_lose_ratio.append({\"results\":\"Win\"},ignore_index=True)\n",
    "    else:\n",
    "        win_lose_ratio = win_lose_ratio.append({\"results\":\"Lost\"},ignore_index=True)\n"
   ]
  },
  {
   "cell_type": "code",
   "execution_count": 3,
   "metadata": {},
   "outputs": [
    {
     "name": "stdout",
     "output_type": "stream",
     "text": [
      "на 10000 игр пришлось лишь 20.46% выигрыша. Общая сумма в кошельке игравшего составляет -3061 рублей. В данном наборе испытаний на 1 игру игрок получает -0.3061 рублей выигрыша/убытка\n"
     ]
    }
   ],
   "source": [
    "total = win_lose_ratio['results'].value_counts()\n",
    "win_sums = total[\"Win\"] / plays * 100\n",
    "print(f\"на {plays} игр пришлось лишь {win_sums}% выигрыша. Общая сумма\\\n",
    " в кошельке игравшего составляет {wallet} рублей.\\\n",
    " В данном наборе испытаний на 1 игру игрок получает {wallet/plays}\\\n",
    " рублей выигрыша/убытка\")"
   ]
  },
  {
   "cell_type": "markdown",
   "metadata": {},
   "source": [
    "#### Выгодна ли игра игроку?\n",
    "нет, не выгодна. На 10000 игр только ~20% (20,46%) оказались выигрышными, а общий результат в любом случае был отрицательным. В конкретном примере равный -3061. \n",
    "#### Сколько в среднем приобретает или теряет игрок за одну игру?\n",
    "-0,3061 рублей. "
   ]
  }
 ],
 "metadata": {
  "kernelspec": {
   "display_name": "Python 3",
   "language": "python",
   "name": "python3"
  },
  "language_info": {
   "codemirror_mode": {
    "name": "ipython",
    "version": 3
   },
   "file_extension": ".py",
   "mimetype": "text/x-python",
   "name": "python",
   "nbconvert_exporter": "python",
   "pygments_lexer": "ipython3",
   "version": "3.7.6"
  }
 },
 "nbformat": 4,
 "nbformat_minor": 2
}
