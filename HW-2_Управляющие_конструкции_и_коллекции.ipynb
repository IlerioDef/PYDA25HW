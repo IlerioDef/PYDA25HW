{
 "cells": [
  {
   "cell_type": "markdown",
   "metadata": {
    "pycharm": {
     "name": "#%% md\n"
    }
   },
   "source": [
    "# Home work to the topic \"Cycles and data type basics. Part 1\""
   ]
  },
  {
   "cell_type": "markdown",
   "metadata": {
    "pycharm": {
     "name": "#%% md\n"
    }
   },
   "source": [
    "## Exercise 1\n",
    "You are given with a variable with a word in English letters. Write the code that will return:\n",
    "- middle letter of the word if the number of letters is odd;\n",
    "- two middle letters of the word if the number of letters is even.\n",
    "\n",
    "Examples:\n",
    "1. `word = 'test'`\n",
    "\n",
    "Return:\n",
    "`es`\n",
    "2.     \n",
    "`word = 'testing'`\n",
    "\n",
    "Return:\n",
    "`t`"
   ]
  },
  {
   "cell_type": "code",
   "execution_count": 1,
   "metadata": {
    "pycharm": {
     "name": "#%%\n"
    }
   },
   "outputs": [
    {
     "name": "stdout",
     "output_type": "stream",
     "text": [
      "ng\n"
     ]
    }
   ],
   "source": [
    "word = 'testingooses'\n",
    "l = int(len(word) / 2 - 1)\n",
    "if len(word) % 2 == 0:\n",
    "    print(word[l:l+2])\n",
    "else:\n",
    "    print(word[l:l+1])\n"
   ]
  },
  {
   "cell_type": "markdown",
   "metadata": {
    "pycharm": {
     "name": "#%% md\n"
    }
   },
   "source": [
    "## Exercise 2\n",
    "Write the code that will request a number, one at a time and after the first \"0\" will return the sum of the previously entered numbers.\n",
    "\n",
    "Examples:\n",
    "1.   \n",
    "\n",
    "```\n",
    "Please enter the number:\n",
    "1\n",
    "\n",
    "Please enter the number:\n",
    "4\n",
    "\n",
    "Please enter the number:\n",
    "6\n",
    "\n",
    "Please enter the number:\n",
    "0\n",
    "```\n",
    "\n",
    "Return:\n",
    "`11`\n",
    "\n",
    "2.      \n",
    "\n",
    "```\n",
    "Please enter the number:\n",
    "0\n",
    "```  \n",
    "\n",
    "Return:\n",
    "`0`"
   ]
  },
  {
   "cell_type": "code",
   "execution_count": 2,
   "metadata": {
    "pycharm": {
     "name": "#%%\n"
    }
   },
   "outputs": [
    {
     "name": "stdout",
     "output_type": "stream",
     "text": [
      "Sum:\n",
      "55\n"
     ]
    }
   ],
   "source": [
    "number_sum = 0\n",
    "number = None\n",
    "while number != 0 :\n",
    "    number = int(input(\"Please enter the number\\n\"))\n",
    "    number_sum += number\n",
    "    \n",
    "print(f'Sum:\\n{number_sum}')"
   ]
  },
  {
   "cell_type": "markdown",
   "metadata": {
    "pycharm": {
     "name": "#%% md\n"
    }
   },
   "source": [
    "## Exercise 3\n",
    "\n",
    "We are making an [MVP](https://en.wikipedia.org/wiki/Minimum_viable_product) of a dating service and we have two lists, of boys and girls, and we make a hypothesis: the best recommendations we'll make if all the names will be sorted in an alphabetic order and same-indexed names will be recommended. But we won't make any recommendation if someone could be left without a pair:\n",
    "\n",
    "Examples:\n",
    "1.  \n",
    "\n",
    "```\n",
    "boys = ['Peter', 'Alex', 'John', 'Arthur', 'Richard']\n",
    "girls = ['Kate', 'Liza', 'Kira', 'Emma', 'Trisha']\n",
    "```\n",
    "\n",
    "Return:\n",
    "```\n",
    "Perfect match:\n",
    "Alex and Emma\n",
    "Arthur and Kate\n",
    "John and Kira\n",
    "Peter and Liza\n",
    "Richard and Trisha\n",
    "```\n",
    "2.     \n",
    "\n",
    "```\n",
    "boys = ['Peter', 'Alex', 'John', 'Arthur', 'Richard', 'Michael']\n",
    "girls = ['Kate', 'Liza', 'Kira', 'Emma', 'Trisha']\n",
    "```\n",
    "\n",
    "Return:\n",
    "`Warning! Someone could be left without a pair!`"
   ]
  },
  {
   "cell_type": "code",
   "execution_count": 4,
   "metadata": {
    "pycharm": {
     "name": "#%%\n"
    }
   },
   "outputs": [
    {
     "name": "stdout",
     "output_type": "stream",
     "text": [
      "Warning! Someone could be left without a pair!\n"
     ]
    }
   ],
   "source": [
    "boys = ['Peter', 'Alex', 'John', 'Arthur', 'Richard','John']\n",
    "girls = ['Kate', 'Liza', 'Kira', 'Emma', 'Trisha']\n",
    "if len(boys) == len(girls):\n",
    "    print('Perfect match:')\n",
    "    pairs = zip(sorted(boys), sorted(girls))\n",
    "    for pair in pairs:\n",
    "        print(f'{pair[0]} and {pair[1]}')\n",
    "else:\n",
    "    print('Warning! Someone could be left without a pair!')"
   ]
  },
  {
   "cell_type": "markdown",
   "metadata": {
    "pycharm": {
     "name": "#%% md\n"
    }
   },
   "source": [
    "## Exercise 4\n",
    "\n",
    "У нас есть список, содержащий информацию о среднедневной температуре в Фаренгейтах за произвольный период по странам (структура данных в примере).\n",
    "Необходимо написать код, который рассчитает среднюю температуру за период в Цельсиях(!) для каждой страны.\n",
    "\n",
    "Пример работы программы:  \n",
    "```\n",
    "countries_temperature = [\n",
    "    ['Thailand', [75.2, 77, 78.8, 73.4, 68, 75.2, 77]],\n",
    "    ['Germany', [57.2, 55.4, 59, 59, 53.6]],\n",
    "    ['Russia', [35.6, 37.4, 39.2, 41, 42.8, 39.2, 35.6]],\n",
    "    ['Poland', [50, 50, 53.6, 57.2, 55.4, 55.4]]\n",
    "]\n",
    "```\n",
    "\n",
    "Return:\n",
    "```\n",
    "Средняя температура в странах:\n",
    "Thailand  -  23.9 С\n",
    "Germany  -  13.8 С\n",
    "Russia  -  3.7 С\n",
    "Poland  -  12.0 С\n",
    "```"
   ]
  },
  {
   "cell_type": "code",
   "execution_count": 122,
   "metadata": {
    "pycharm": {
     "name": "#%%\n"
    }
   },
   "outputs": [
    {
     "name": "stdout",
     "output_type": "stream",
     "text": [
      "Thailand - 23.9 С\n",
      "Germany - 13.8 С\n",
      "Russia - 3.7 С\n",
      "Poland - 12.0 С\n"
     ]
    }
   ],
   "source": [
    "countries_temperature = [\n",
    "    ['Thailand', [75.2, 77, 78.8, 73.4, 68, 75.2, 77]],\n",
    "    ['Germany', [57.2, 55.4, 59, 59, 53.6]],\n",
    "    ['Russia', [35.6, 37.4, 39.2, 41, 42.8, 39.2, 35.6]],\n",
    "    ['Poland', [50, 50, 53.6, 57.2, 55.4, 55.4]]\n",
    "]\n",
    "for country in countries_temperature:\n",
    "    average_temp_celsius = (sum(country[1]) / len(country[1]) - 32) * 5 / 9\n",
    "    print(f'{country[0]} - {average_temp_celsius:.1f} С')"
   ]
  },
  {
   "cell_type": "markdown",
   "metadata": {
    "pycharm": {
     "name": "#%% md\n"
    }
   },
   "source": [
    "## Exercise 5 (необязательное)\n",
    "\n",
    "Дан поток логов по количеству просмотренных страниц для каждого пользователя. Вам необходимо написать алгоритм, который считает среднее значение просмотров на пользователя. \n",
    "Т. е. надо посчитать отношение суммы всех просмотров к количеству уникальных пользователей.\n",
    "\n",
    "Examples:\n",
    "1.  \n",
    "\n",
    "```\n",
    "stream = [\n",
    "    '2018-01-01,user1,3',\n",
    "    '2018-01-07,user1,4',\n",
    "    '2018-03-29,user1,1',\n",
    "    '2018-04-04,user1,13',\n",
    "    '2018-01-05,user2,7',\n",
    "    '2018-06-14,user3,4',\n",
    "    '2018-07-02,user3,10',\n",
    "    '2018-03-21,user4,19',\n",
    "    '2018-03-22,user4,4',\n",
    "    '2018-04-22,user4,8',\n",
    "    '2018-05-03,user4,9',\n",
    "    '2018-05-11,user4,11',\n",
    "]\n",
    "```\n",
    "\n",
    "Return:\n",
    "`Среднее количество просмотров на уникального пользователя: 23.25`\n",
    "2.     \n",
    "\n",
    "```\n",
    "stream = [\n",
    "    '2018-01-01,user100,150',\n",
    "    '2018-01-07,user99,205',\n",
    "    '2018-03-29,user1001,81'\n",
    "]\n",
    "```\n",
    "\n",
    "Return:\n",
    "`Среднее количество просмотров на уникального пользователя: 145.33`"
   ]
  },
  {
   "cell_type": "code",
   "execution_count": 114,
   "metadata": {
    "pycharm": {
     "name": "#%%\n"
    }
   },
   "outputs": [
    {
     "name": "stdout",
     "output_type": "stream",
     "text": [
      "Среднее количество просмотров на уникального пользователя: 23.25\n"
     ]
    }
   ],
   "source": [
    "stream = [\n",
    "    '2018-01-01,user1,3',\n",
    "    '2018-01-07,user1,4',\n",
    "    '2018-03-29,user1,1',\n",
    "    '2018-04-04,user1,13',\n",
    "    '2018-01-05,user2,7',\n",
    "    '2018-06-14,user3,4',\n",
    "    '2018-07-02,user3,10',\n",
    "    '2018-03-21,user4,19',\n",
    "    '2018-03-22,user4,4',\n",
    "    '2018-04-22,user4,8',\n",
    "    '2018-05-03,user4,9',\n",
    "    '2018-05-11,user4,11',\n",
    "]\n",
    "total_views = 0\n",
    "total_users = []\n",
    "for unique_user in stream:\n",
    "    date, user, views = unique_user.strip().split(',')\n",
    "    total_views += int(views)\n",
    "    total_users.append(user)\n",
    "    \n",
    "print(f'Среднее количество просмотров на уникального пользователя: {total_views/len(set(total_users))}')\n",
    "    "
   ]
  },
  {
   "cell_type": "markdown",
   "metadata": {
    "pycharm": {
     "name": "#%% md\n"
    }
   },
   "source": [
    "## Exercise 6 (необязательное)\n",
    "\n",
    "Необходимо у пользователя запрашивать набор чисел разделенных пробелом. В Returnе в отсортированном порядке должны выводиться числа, которые повторяются в вводе более одного раза.\n",
    "\n",
    "Examples:\n",
    "1.  \n",
    "\n",
    "```\n",
    "Введите числа:\n",
    "4 8 0 3 4 2 0 3\n",
    "```\n",
    "\n",
    "Return:\n",
    "`0 3 4`\n",
    "\n",
    "2.     \n",
    "\n",
    "```\n",
    "Введите числа:\n",
    "1 1 2 2 3 3\n",
    "```\n",
    "\n",
    "Return:\n",
    "`1 2 3`\n",
    "\n",
    "3.     \n",
    "\n",
    "```\n",
    "Введите числа:\n",
    "10 15 15 103 200 200 200 1 1 1 1 1 2 2 2\n",
    "```\n",
    "\n",
    "Return:\n",
    "`1 2 15 200`"
   ]
  },
  {
   "cell_type": "code",
   "execution_count": 135,
   "metadata": {
    "pycharm": {
     "name": "#%%\n"
    }
   },
   "outputs": [
    {
     "name": "stdout",
     "output_type": "stream",
     "text": [
      "Введите разделенные пробелами цифры1 2 3 4 4 4 5 5 6 7 8\n",
      "Результат:\n",
      " 4 5\n"
     ]
    }
   ],
   "source": [
    "space_separated_number = input('Введите разделенные пробелами цифры')\n",
    "unique_numbers = []\n",
    "numbers = space_separated_number.split(' ')\n",
    "for single_number in numbers:\n",
    "    if numbers.count(single_number) > 1:\n",
    "        unique_numbers.append(int(single_number))\n",
    "unique_numbers = sorted(set(unique_numbers))\n",
    "print(f'Return:\\n {\" \".join(str(number) for number in unique_numbers)}')\n"
   ]
  },
  {
   "cell_type": "markdown",
   "metadata": {
    "pycharm": {
     "name": "#%% md\n"
    }
   },
   "source": [
    "#### NOTE\n",
    "Homework is submitted with a Google Colab link. We won't be able to check or help if you send:\n",
    "- files;\n",
    "- archives;\n",
    "- code screenshots.\n",
    "All discussions and consultations on homework are conducted only on the appropriate channel in slack.\n",
    "##### How to ask questions to graduate students, teachers and colleagues\n",
    "Before asking a question, try to find the answer on the Internet. The ability to independently search for information is one of the most important. Every user at any level does this every day.\n",
    "Formulate a question according to the algorithm:\n",
    "1) What am I doing?\n",
    "2) What Result do I expect?\n",
    "3) How is the actual Result different from the expected one?\n",
    "4) What have I already tried to fix the problem?\n",
    "If possible, attach screenshots or links to the code of the question. Do not post the whole solution, leave only the problematic and reproducible section of the code.\n"
   ]
  }
 ],
 "metadata": {
  "kernelspec": {
   "display_name": "Python 3",
   "language": "python",
   "name": "python3"
  },
  "language_info": {
   "codemirror_mode": {
    "name": "ipython",
    "version": 3
   },
   "file_extension": ".py",
   "mimetype": "text/x-python",
   "name": "python",
   "nbconvert_exporter": "python",
   "pygments_lexer": "ipython3",
   "version": "3.7.6"
  }
 },
 "nbformat": 4,
 "nbformat_minor": 2
}