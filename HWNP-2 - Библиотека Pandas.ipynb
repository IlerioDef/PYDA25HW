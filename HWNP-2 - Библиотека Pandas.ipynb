{
 "cells": [
  {
   "cell_type": "markdown",
   "id": "3a0a2b7d",
   "metadata": {},
   "source": [
    "Домашнее задание\n",
    "\n",
    "Задание 1\n",
    "Скачайте с сайта grouplens.org...movielens/ датасет любого размера. Определите какому фильму было выставлено больше всего оценок 5.0.\n",
    "\n",
    "Задание 2\n",
    "По данным файла power.csv посчитайте суммарное потребление стран Прибалтики (Латвия, Литва и Эстония) категорий 4, 12 и 21 за период с 2005 по 2010 года. Не учитывайте в расчетах отрицательные значения quantity.\n",
    "\n",
    "Задание 3\n",
    "Выберите страницу любого сайта с табличными данными. Импортируйте таблицы в pandas dataframe.\n",
    "Примеры страниц (необязательно брать именно эти):\n",
    "https://fortrader.org/quotes\n",
    "www.finanz.ru...om-vremeni\n"
   ]
  },
  {
   "cell_type": "markdown",
   "id": "a459d890",
   "metadata": {},
   "source": [
    "***Задание 1 Скачайте с сайта grouplens.org...movielens/ датасет любого размера. Определите какому фильму было выставлено больше всего оценок 5.0.***"
   ]
  },
  {
   "cell_type": "code",
   "execution_count": 1,
   "id": "a3979ec0",
   "metadata": {},
   "outputs": [
    {
     "name": "stdout",
     "output_type": "stream",
     "text": [
      "CPU times: user 3 µs, sys: 0 ns, total: 3 µs\n",
      "Wall time: 6.2 µs\n"
     ]
    },
    {
     "data": {
      "text/html": [
       "<div>\n",
       "<style scoped>\n",
       "    .dataframe tbody tr th:only-of-type {\n",
       "        vertical-align: middle;\n",
       "    }\n",
       "\n",
       "    .dataframe tbody tr th {\n",
       "        vertical-align: top;\n",
       "    }\n",
       "\n",
       "    .dataframe thead th {\n",
       "        text-align: right;\n",
       "    }\n",
       "</style>\n",
       "<table border=\"1\" class=\"dataframe\">\n",
       "  <thead>\n",
       "    <tr style=\"text-align: right;\">\n",
       "      <th></th>\n",
       "      <th>movieId</th>\n",
       "      <th>title</th>\n",
       "    </tr>\n",
       "  </thead>\n",
       "  <tbody>\n",
       "    <tr>\n",
       "      <th>277</th>\n",
       "      <td>318</td>\n",
       "      <td>Shawshank Redemption, The (1994)</td>\n",
       "    </tr>\n",
       "  </tbody>\n",
       "</table>\n",
       "</div>"
      ],
      "text/plain": [
       "     movieId                             title\n",
       "277      318  Shawshank Redemption, The (1994)"
      ]
     },
     "execution_count": 1,
     "metadata": {},
     "output_type": "execute_result"
    }
   ],
   "source": [
    "\"\"\" \n",
    "\n",
    "Для задания №1 была использована малая БД, скачанная с ресурса\n",
    "https://grouplens.org/datasets/movielens/ \n",
    "Small: 100,000 ratings and 3,600 tag applications applied to \n",
    "9,000 movies by 600 users. Last updated 9/2018.\n",
    "\n",
    "\n",
    "\"\"\"\n",
    "%time\n",
    "import pandas as pd\n",
    "movies = pd.read_csv('movies.csv', usecols=['movieId', 'title'])\n",
    "ratings = pd.read_csv('ratings.csv',usecols=['movieId', 'rating'])\n",
    "\n",
    "five_stars = ratings[ratings.rating == 5.0]\n",
    "maximum_five_stars = five_stars.movieId.value_counts().index[0]\n",
    "film_name = movies[ (movies['movieId'] == maximum_five_stars)]\n",
    "film_name"
   ]
  },
  {
   "cell_type": "markdown",
   "id": "b7504e63",
   "metadata": {},
   "source": [
    "***Задание 2 По данным файла power.csv посчитайте суммарное потребление стран Прибалтики (Латвия, Литва и Эстония) категорий 4, 12 и 21 за период с 2005 по 2010 года. Не учитывайте в расчетах отрицательные значения quantity.***\n"
   ]
  },
  {
   "cell_type": "code",
   "execution_count": 2,
   "id": "3df9de4e",
   "metadata": {},
   "outputs": [
    {
     "name": "stdout",
     "output_type": "stream",
     "text": [
      "CPU times: user 2 µs, sys: 0 ns, total: 2 µs\n",
      "Wall time: 4.77 µs\n",
      "Суммарное потребление стран Прибалтики за период с 2005 по 2010 = 970728.0 единиц\n"
     ]
    }
   ],
   "source": [
    "%time\n",
    "power = pd.read_csv('power.csv')\n",
    "power.head()\n",
    "# \tcountry\tyear\tquantity\tcategory\n",
    "baltic_states = power[\n",
    "    (power['country'] == 'Latvia') | \n",
    "    (power['country'] == 'Lithuania') | \n",
    "    (power['country'] == 'Estonia')]\n",
    "baltic_cats = baltic_states[(baltic_states.category == 4) |\n",
    "              (baltic_states.category == 12)|\n",
    "              (baltic_states.category == 21)\n",
    "             ]               \n",
    "baltic_years = baltic_cats[(baltic_cats.year >= 2005)&\n",
    "                           baltic_cats.year <= 2010\n",
    "             ]       \n",
    "baltic_quantities = baltic_years[baltic_years.quantity > 0.0]\n",
    "total_consumption = baltic_quantities.quantity.sum()\n",
    "print(f'Суммарное потребление стран Прибалтики за период с 2005 по 2010 = {total_consumption} единиц') \n"
   ]
  },
  {
   "cell_type": "markdown",
   "id": "9b8f8550",
   "metadata": {},
   "source": [
    "***Задание 3 Выберите страницу любого сайта с табличными данными. Импортируйте таблицы в pandas dataframe. Примеры страниц (необязательно брать именно эти): https://fortrader.org/quotes www.finanz.ru...om-vremeni***"
   ]
  },
  {
   "cell_type": "code",
   "execution_count": 3,
   "id": "eba95e2b",
   "metadata": {},
   "outputs": [
    {
     "data": {
      "text/html": [
       "<div>\n",
       "<style scoped>\n",
       "    .dataframe tbody tr th:only-of-type {\n",
       "        vertical-align: middle;\n",
       "    }\n",
       "\n",
       "    .dataframe tbody tr th {\n",
       "        vertical-align: top;\n",
       "    }\n",
       "\n",
       "    .dataframe thead th {\n",
       "        text-align: right;\n",
       "    }\n",
       "</style>\n",
       "<table border=\"1\" class=\"dataframe\">\n",
       "  <thead>\n",
       "    <tr style=\"text-align: right;\">\n",
       "      <th></th>\n",
       "      <th>Название</th>\n",
       "      <th>Цена</th>\n",
       "      <th>Изменение</th>\n",
       "      <th>Изменение(%)</th>\n",
       "      <th>Обновлено</th>\n",
       "    </tr>\n",
       "  </thead>\n",
       "  <tbody>\n",
       "    <tr>\n",
       "      <th>0</th>\n",
       "      <td>EURRUB Курс евро к рублю сегодня</td>\n",
       "      <td>84.69</td>\n",
       "      <td>1.67</td>\n",
       "      <td>2.01</td>\n",
       "      <td>NaN</td>\n",
       "    </tr>\n",
       "    <tr>\n",
       "      <th>1</th>\n",
       "      <td>USDRUB Курс рубля к доллару</td>\n",
       "      <td>72.53</td>\n",
       "      <td>-0.51</td>\n",
       "      <td>-0.70</td>\n",
       "      <td>NaN</td>\n",
       "    </tr>\n",
       "  </tbody>\n",
       "</table>\n",
       "</div>"
      ],
      "text/plain": [
       "                           Название   Цена  Изменение  Изменение(%)  Обновлено\n",
       "0  EURRUB Курс евро к рублю сегодня  84.69       1.67          2.01        NaN\n",
       "1       USDRUB Курс рубля к доллару  72.53      -0.51         -0.70        NaN"
      ]
     },
     "execution_count": 3,
     "metadata": {},
     "output_type": "execute_result"
    }
   ],
   "source": [
    "pd.read_html('https://fortrader.org/quotes')[0]"
   ]
  },
  {
   "cell_type": "code",
   "execution_count": null,
   "id": "a5e62265",
   "metadata": {},
   "outputs": [],
   "source": []
  }
 ],
 "metadata": {
  "kernelspec": {
   "display_name": "Python 3",
   "language": "python",
   "name": "python3"
  },
  "language_info": {
   "codemirror_mode": {
    "name": "ipython",
    "version": 3
   },
   "file_extension": ".py",
   "mimetype": "text/x-python",
   "name": "python",
   "nbconvert_exporter": "python",
   "pygments_lexer": "ipython3",
   "version": "3.8.8"
  }
 },
 "nbformat": 4,
 "nbformat_minor": 5
}
