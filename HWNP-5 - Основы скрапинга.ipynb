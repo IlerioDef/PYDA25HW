{
 "cells": [
  {
   "cell_type": "markdown",
   "metadata": {},
   "source": [
    "# Домашнее задание к лекции \"Основы веб-скрапинга и работы с API\""
   ]
  },
  {
   "cell_type": "code",
   "execution_count": 1,
   "metadata": {},
   "outputs": [],
   "source": [
    "import pandas as pd\n",
    "import requests\n",
    "from bs4 import BeautifulSoup\n",
    "import time"
   ]
  },
  {
   "cell_type": "markdown",
   "metadata": {},
   "source": [
    "## Задание 1. \n",
    "\n",
    "### Обязательная часть"
   ]
  },
  {
   "cell_type": "markdown",
   "metadata": {},
   "source": [
    "Будем парсить страницу со свежеми новостям на [habr.com/ru/all/](https://habr.com/ru/all/).\n",
    "\n",
    "Вам необходимо собирать только те статьи, в заголовке которых встречается хотя бы одно требуемое ключевое слово. Эти слова определяем в начале кода в переменной, например:\n",
    "\n",
    "`KEYWORDS = ['python', 'парсинг']`\n",
    " \n",
    "В итоге должен формироваться датафрейм вида: `<дата> - <заголовок> - <ссылка>`"
   ]
  },
  {
   "cell_type": "code",
   "execution_count": 2,
   "metadata": {},
   "outputs": [],
   "source": [
    "KEYWORDS = ['python', 'парсинг']\n",
    "params = {\"q\":KEYWORDS,\"target_type\":\"posts\",\"order\":\"relevance\"} \n",
    "req = requests.get(\"https://habr.com/ru/search/\", params=params) # Читинг\n",
    "# Я занес в параметры поиска искомые ключевые слова, \n",
    "# т.к. в сырой выдаче я их не находил. А в поиске по Хабру выполняется условие по наличию в заголовках\n",
    "soup = BeautifulSoup(req.text)\n",
    "posts = soup.find_all('article', 'tm-articles-list__item')\n",
    "links=[]\n",
    "for post in posts:\n",
    "    heads = post.find_all('a', class_=\"tm-article-snippet__title-link\")\n",
    "    for head in heads:\n",
    "        links.append('https://habr.com'+head.get('href')) # Создаем список ссылок. \n",
    "\n",
    "habr_search = pd.DataFrame()        \n",
    "for link in links:\n",
    "    soup = BeautifulSoup(requests.get(link).text)\n",
    "    time.sleep(0.3)\n",
    "    date = pd.to_datetime(soup.find('span', class_=\"tm-article-snippet__datetime-published\").find('time').get('datetime'))\n",
    "    title = soup.find('h1', class_=\"tm-article-snippet__title tm-article-snippet__title_h1\").text\n",
    "    text = soup.find('div', class_=\"tm-article-body\").text.replace('\\n','').replace('\\r','')\n",
    "    row = {'Date':date,'Title':title,'Link':link,'Text':text}\n",
    "    habr_search = pd.concat([habr_search, pd.DataFrame([row])]) \n"
   ]
  },
  {
   "cell_type": "code",
   "execution_count": 3,
   "metadata": {},
   "outputs": [
    {
     "data": {
      "text/html": [
       "<div>\n",
       "<style scoped>\n",
       "    .dataframe tbody tr th:only-of-type {\n",
       "        vertical-align: middle;\n",
       "    }\n",
       "\n",
       "    .dataframe tbody tr th {\n",
       "        vertical-align: top;\n",
       "    }\n",
       "\n",
       "    .dataframe thead th {\n",
       "        text-align: right;\n",
       "    }\n",
       "</style>\n",
       "<table border=\"1\" class=\"dataframe\">\n",
       "  <thead>\n",
       "    <tr style=\"text-align: right;\">\n",
       "      <th></th>\n",
       "      <th>Date</th>\n",
       "      <th>Title</th>\n",
       "      <th>Link</th>\n",
       "      <th>Text</th>\n",
       "    </tr>\n",
       "  </thead>\n",
       "  <tbody>\n",
       "    <tr>\n",
       "      <th>0</th>\n",
       "      <td>2021-06-17 05:49:15+00:00</td>\n",
       "      <td>Вышла библиотека PyWhat для автоматического па...</td>\n",
       "      <td>https://habr.com/ru/company/dcmiran/news/t/563...</td>\n",
       "      <td>Разработана удобная библиотека PyWhat, котора...</td>\n",
       "    </tr>\n",
       "    <tr>\n",
       "      <th>1</th>\n",
       "      <td>2011-06-14 15:24:25+00:00</td>\n",
       "      <td>Парсинг на Pуthon. Как собрать архив Голубятен</td>\n",
       "      <td>https://habr.com/ru/post/121815/</td>\n",
       "      <td>Статья описывает разработку скрипта на языке ...</td>\n",
       "    </tr>\n",
       "    <tr>\n",
       "      <th>2</th>\n",
       "      <td>2020-10-01 14:17:40+00:00</td>\n",
       "      <td>Как выбрать решение для парсинга сайтов: класс...</td>\n",
       "      <td>https://habr.com/ru/post/521646/</td>\n",
       "      <td>Парсинг или как его еще иногда называют web s...</td>\n",
       "    </tr>\n",
       "    <tr>\n",
       "      <th>3</th>\n",
       "      <td>2020-07-31 07:00:46+00:00</td>\n",
       "      <td>Как проанализировать рынок фотостудий с помощь...</td>\n",
       "      <td>https://habr.com/ru/post/512208/</td>\n",
       "      <td>В предыдущей статье в рамках коммерческого пр...</td>\n",
       "    </tr>\n",
       "    <tr>\n",
       "      <th>4</th>\n",
       "      <td>2015-03-06 14:40:20+00:00</td>\n",
       "      <td>Веб-парсинг на Ruby</td>\n",
       "      <td>https://habr.com/ru/post/252379/</td>\n",
       "      <td>Это перевод статьи «Web Scraping with Ruby», ...</td>\n",
       "    </tr>\n",
       "  </tbody>\n",
       "</table>\n",
       "</div>"
      ],
      "text/plain": [
       "                       Date  \\\n",
       "0 2021-06-17 05:49:15+00:00   \n",
       "1 2011-06-14 15:24:25+00:00   \n",
       "2 2020-10-01 14:17:40+00:00   \n",
       "3 2020-07-31 07:00:46+00:00   \n",
       "4 2015-03-06 14:40:20+00:00   \n",
       "\n",
       "                                               Title  \\\n",
       "0  Вышла библиотека PyWhat для автоматического па...   \n",
       "1     Парсинг на Pуthon. Как собрать архив Голубятен   \n",
       "2  Как выбрать решение для парсинга сайтов: класс...   \n",
       "3  Как проанализировать рынок фотостудий с помощь...   \n",
       "4                                Веб-парсинг на Ruby   \n",
       "\n",
       "                                                Link  \\\n",
       "0  https://habr.com/ru/company/dcmiran/news/t/563...   \n",
       "1                   https://habr.com/ru/post/121815/   \n",
       "2                   https://habr.com/ru/post/521646/   \n",
       "3                   https://habr.com/ru/post/512208/   \n",
       "4                   https://habr.com/ru/post/252379/   \n",
       "\n",
       "                                                Text  \n",
       "0   Разработана удобная библиотека PyWhat, котора...  \n",
       "1   Статья описывает разработку скрипта на языке ...  \n",
       "2   Парсинг или как его еще иногда называют web s...  \n",
       "3   В предыдущей статье в рамках коммерческого пр...  \n",
       "4   Это перевод статьи «Web Scraping with Ruby», ...  "
      ]
     },
     "execution_count": 3,
     "metadata": {},
     "output_type": "execute_result"
    }
   ],
   "source": [
    "habr_search = habr_search.reset_index().drop(['index'], axis=1)\n",
    "habr_search.head()"
   ]
  },
  {
   "cell_type": "markdown",
   "metadata": {},
   "source": [
    "### Дополнительная часть (необязательная)"
   ]
  },
  {
   "cell_type": "markdown",
   "metadata": {},
   "source": [
    "Улучшить скрипт так, чтобы он анализировал не только заголовки статьи, но и весь текст статьи целиком.\n",
    "\n",
    "Для этого потребуется получать страницы статей и искать по тексту внутри этой страницы.  \n",
    "\n",
    "Итоговый датафрейм формировать со столбцами: `<дата> - <заголовок> - <ссылка> - <текст_статьи>`\n"
   ]
  },
  {
   "cell_type": "markdown",
   "metadata": {},
   "source": [
    "## Задание 2."
   ]
  },
  {
   "cell_type": "markdown",
   "metadata": {},
   "source": [
    "### Обязательная часть"
   ]
  },
  {
   "cell_type": "markdown",
   "metadata": {},
   "source": [
    "Написать скрипт, который будет проверять список e-mail адресов на утечку при помощи сервиса [Avast Hack Ckeck](https://www.avast.com/hackcheck/).\n",
    "Список email-ов задаем переменной в начале кода:  \n",
    "`EMAIL = [xxx@x.ru, yyy@y.com]`\n",
    "\n",
    "В итоге должен формироваться датафрейм со столбцами: `<дата утечки> - <источник утечки> - <описание утечки>`  \n",
    "\n",
    "**Подсказка**: сервис работает при помощи \"скрытого\" API. Внимательно изучите post-запросы. Данные (почтовые адреса) передаются на сервис в json-формате (параметр `json` функции `post`)."
   ]
  },
  {
   "cell_type": "code",
   "execution_count": 126,
   "metadata": {},
   "outputs": [],
   "source": [
    "EMAIL = {\"emailAddresses\":[\"user1@yandex.ru\"]}\n",
    "URL = \"https://identityprotection.avast.com/v1/web/query/site-breaches/unauthorized-data\"\n",
    "HEADERS = {\n",
    "    'Vaar-Header-App-Build-Version':'1.0.0',\n",
    "    'Vaar-Header-App-Product-Name':'hackcheck-web-avast',\n",
    "    'Vaar-Version':'0'\n",
    "}\n",
    "req = requests.post(url=URL, headers=HEADERS, json=EMAIL)\n",
    "\n",
    "\n",
    "    \n",
    "        \n",
    "    "
   ]
  },
  {
   "cell_type": "code",
   "execution_count": 128,
   "metadata": {},
   "outputs": [
    {
     "data": {
      "text/html": [
       "<div>\n",
       "<style scoped>\n",
       "    .dataframe tbody tr th:only-of-type {\n",
       "        vertical-align: middle;\n",
       "    }\n",
       "\n",
       "    .dataframe tbody tr th {\n",
       "        vertical-align: top;\n",
       "    }\n",
       "\n",
       "    .dataframe thead th {\n",
       "        text-align: right;\n",
       "    }\n",
       "</style>\n",
       "<table border=\"1\" class=\"dataframe\">\n",
       "  <thead>\n",
       "    <tr style=\"text-align: right;\">\n",
       "      <th></th>\n",
       "      <th>Date</th>\n",
       "      <th>Site</th>\n",
       "      <th>Description</th>\n",
       "    </tr>\n",
       "  </thead>\n",
       "  <tbody>\n",
       "    <tr>\n",
       "      <th>0</th>\n",
       "      <td>2016-10-21T00:00:00Z</td>\n",
       "      <td>adobe.com</td>\n",
       "      <td>In October of 2013, criminals penetrated Adobe...</td>\n",
       "    </tr>\n",
       "    <tr>\n",
       "      <th>0</th>\n",
       "      <td>2016-11-01T00:00:00Z</td>\n",
       "      <td>qip.ru</td>\n",
       "      <td>In 2011, Russian instant messaging service pro...</td>\n",
       "    </tr>\n",
       "    <tr>\n",
       "      <th>0</th>\n",
       "      <td>2020-11-05T00:00:00Z</td>\n",
       "      <td>vimeworld.ru</td>\n",
       "      <td>In January 2018, the Russian Minecraft server ...</td>\n",
       "    </tr>\n",
       "  </tbody>\n",
       "</table>\n",
       "</div>"
      ],
      "text/plain": [
       "                   Date          Site  \\\n",
       "0  2016-10-21T00:00:00Z     adobe.com   \n",
       "0  2016-11-01T00:00:00Z        qip.ru   \n",
       "0  2020-11-05T00:00:00Z  vimeworld.ru   \n",
       "\n",
       "                                         Description  \n",
       "0  In October of 2013, criminals penetrated Adobe...  \n",
       "0  In 2011, Russian instant messaging service pro...  \n",
       "0  In January 2018, the Russian Minecraft server ...  "
      ]
     },
     "execution_count": 128,
     "metadata": {},
     "output_type": "execute_result"
    }
   ],
   "source": [
    "reb = req.json()\n",
    "reb['breaches']\n",
    "leakage = pd.DataFrame()\n",
    "for values in reb.values():\n",
    "    for key, value in values.items():\n",
    "        site = value['site']\n",
    "        date = value['publishDate']\n",
    "        description = value['description']\n",
    "        row = {'Date':date,'Site':site,'Description':description}\n",
    "        leakage = pd.concat([leakage, pd.DataFrame([row])])\n",
    "    break\n",
    "leakage"
   ]
  },
  {
   "cell_type": "markdown",
   "metadata": {},
   "source": [
    "### Дополнительная часть (необязательная)"
   ]
  },
  {
   "cell_type": "markdown",
   "metadata": {},
   "source": [
    "Написать скрипт, который будет получать 50 последних постов указанной группы во Вконтакте.  \n",
    "Документация к API VK: https://vk.com/dev/methods\n",
    ", вам поможет метод [wall.get](https://vk.com/dev/wall.get)  \n",
    "```\n",
    "GROUP = 'netology'  \n",
    "TOKEN = УДАЛЯЙТЕ В ВЕРСИИ ДЛЯ ПРОВЕРКИ, НА GITHUB НЕ ВЫКЛАДЫВАТЬ  \n",
    "```\n",
    "\n",
    "В итоге должен формироваться датафрейм со столбцами: `<дата поста> - <текст поста>`"
   ]
  },
  {
   "cell_type": "markdown",
   "metadata": {},
   "source": [
    "#### ПРИМЕЧАНИЕ\n",
    "Домашнее задание сдается ссылкой [Google Colab](https://colab.research.google.com/).\n",
    "Не сможем проверить или помочь, если вы пришлете:\n",
    "- файлы;\n",
    "- архивы;\n",
    "- скриншоты кода.\n",
    "\n",
    "Все обсуждения и консультации по выполнению домашнего задания ведутся только на соответствующем канале в slack.\n",
    "\n",
    "##### Как правильно задавать вопросы аспирантам, преподавателям и коллегам?\n",
    "Прежде чем задать вопрос необходимо попробовать найти ответ самому в интернете. Навык самостоятельного поиска информации – один из важнейших, и каждый практикующий специалист любого уровня это делает каждый день.\n",
    "\n",
    "Любой вопрос должен быть сформулирован по алгоритму:  \n",
    "1) Что я делаю?  \n",
    "2) Какого результата я ожидаю?  \n",
    "3) Как фактический результат отличается от ожидаемого?  \n",
    "4) Что я уже попробовал сделать, чтобы исправить проблему?  \n",
    "\n",
    "По возможности, прикрепляйте к вопросу скриншоты, либо ссылки на код. Оставляйте только проблемный и воспроизводимый участок кода, все решение выкладывать не допускается.\n"
   ]
  }
 ],
 "metadata": {
  "kernelspec": {
   "display_name": "Python 3",
   "language": "python",
   "name": "python3"
  },
  "language_info": {
   "codemirror_mode": {
    "name": "ipython",
    "version": 3
   },
   "file_extension": ".py",
   "mimetype": "text/x-python",
   "name": "python",
   "nbconvert_exporter": "python",
   "pygments_lexer": "ipython3",
   "version": "3.7.6"
  }
 },
 "nbformat": 4,
 "nbformat_minor": 2
}
