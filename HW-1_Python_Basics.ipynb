{
 "cells": [
  {
   "cell_type": "markdown",
   "metadata": {
    "pycharm": {
     "name": "#%% md\n"
    }
   },
   "source": [
    "# Home work to the topic \" Python basics\""
   ]
  },
  {
   "cell_type": "markdown",
   "metadata": {
    "pycharm": {
     "name": "#%% md\n"
    }
   },
   "source": [
    "## Exercise 1"
   ]
  },
  {
   "cell_type": "markdown",
   "metadata": {
    "pycharm": {
     "name": "#%% md\n"
    }
   },
   "source": [
    "You are given with 2 string variables of unknown length: *phrase_1* & *phrase_2*.\n",
    "Write the code that will allow to find out which one is longer."
   ]
  },
  {
   "cell_type": "markdown",
   "metadata": {
    "pycharm": {
     "name": "#%% md\n"
    }
   },
   "source": [
    "Examples:\n",
    "1.  \n",
    "\n",
    "```\n",
    "phrase_1 = 'Life of a programmer could have been easier if not the clients'\n",
    "phrase_2 = '640Kb should be enough for any task. Bill Gates (presumably)'\n",
    "```\n",
    "\n",
    "Result:\n",
    "`Phrase 1 is longer than Phrase 2`\n",
    "2.     \n",
    "\n",
    "```\n",
    "phrase_1 = '640Kb should be enough for any task. Bill Gates (presumably)'\n",
    "phrase_2 = 'Life of a programmer could have been easier if not the clients'\n",
    "```\n",
    "\n",
    "Result:\n",
    "`Phrase 2 is longer that Phrase 1`\n",
    "3.     \n",
    "\n",
    "```\n",
    "phrase_1 = 'Life of a programmer could have been easier if not the clients'\n",
    "phrase_2 = 'Life of a programmer could have been easier if not the clients'\n",
    "```\n",
    "\n",
    "Result:\n",
    "`Phrases are even`"
   ]
  },
  {
   "cell_type": "code",
   "execution_count": 3,
   "metadata": {
    "pycharm": {
     "name": "#%%\n"
    }
   },
   "outputs": [
    {
     "name": "stdout",
     "output_type": "stream",
     "text": [
      "Phrase 2 is longer than Phrase 1\n"
     ]
    }
   ],
   "source": [
    "phrase_1 = '640Kb should be enough for any task. Bill Gates (presumably)'\n",
    "phrase_2 = 'Life of a programmer could have been easier if not the clients'\n",
    "if len(phrase_1) > len(phrase_2):\n",
    "    print('Phrase 1 is longer than Phrase 2')\n",
    "elif len(phrase_1) < len(phrase_2):\n",
    "    print('Phrase 2 is longer than Phrase 1')\n",
    "else: \n",
    "    print('Phrases are even')"
   ]
  },
  {
   "cell_type": "markdown",
   "metadata": {
    "pycharm": {
     "name": "#%% md\n"
    }
   },
   "source": [
    "## Exercise 2"
   ]
  },
  {
   "cell_type": "markdown",
   "metadata": {
    "pycharm": {
     "name": "#%% md\n"
    }
   },
   "source": [
    "You are given a 4-digit variable (a year). Write the code that allows to check if the year is a leap year\n",
    "\n",
    "Examples:\n",
    "1.  \n",
    "\n",
    "```\n",
    "year = 2020\n",
    "```\n",
    "Result:\n",
    "`Leap year`\n",
    "\n",
    "2.  \n",
    "\n",
    "```\n",
    "year = 2019\n",
    "```\n",
    "Result:\n",
    "`Normal year`"
   ]
  },
  {
   "cell_type": "code",
   "execution_count": 5,
   "metadata": {
    "pycharm": {
     "name": "#%%\n"
    }
   },
   "outputs": [
    {
     "name": "stdout",
     "output_type": "stream",
     "text": [
      "Normal year\n"
     ]
    }
   ],
   "source": [
    "# Every year that is exactly divisible by four is a leap year, except for years that are exactly divisible by 100, but these centurial years are leap years if they are exactly divisible by 400. For example, the years 1700, 1800, and 1900 are not leap years, but the years 1600 and 2000 are.\n",
    "def check_year():\n",
    "    check_year = int(input('please enter the year\\n'))\n",
    "    if check_year % 400 == 0:\n",
    "        print('Leap year')\n",
    "    elif check_year % 100 == 0:\n",
    "        print('Normal year')\n",
    "    elif check_year % 4 == 0:\n",
    "        print('Leap year')\n",
    "    else: \n",
    "        print('Normal year')\n",
    "    return\n",
    "check_year()\n",
    "\n"
   ]
  },
  {
   "cell_type": "markdown",
   "metadata": {
    "pycharm": {
     "name": "#%% md\n"
    }
   },
   "source": [
    "## Exercise 3"
   ]
  },
  {
   "cell_type": "markdown",
   "metadata": {
    "pycharm": {
     "name": "#%% md\n"
    }
   },
   "source": [
    "You need to write a code that will ask user for his day and month of birth and will show his zodiac sign.\n",
    "\n",
    "Examples:\n",
    "1.  \n",
    "\n",
    "```\n",
    "Please enter the day of birth:\n",
    "30\n",
    "\n",
    "Please enter the Month of birth:\n",
    "August\n",
    "```\n",
    "Result:\n",
    "`Your zodiac sign is: Virgo`\n",
    "\n",
    "2.  \n",
    "\n",
    "```\n",
    "Please enter the day of birth:\n",
    "29\n",
    "\n",
    "Please enter the Month of birth:\n",
    "October\n",
    "```\n",
    "Результат:  \n",
    "`Your zodiac sign is: Scorpio` \n"
   ]
  },
  {
   "cell_type": "code",
   "execution_count": 1,
   "metadata": {
    "pycharm": {
     "name": "#%%\n"
    }
   },
   "outputs": [
    {
     "name": "stdout",
     "output_type": "stream",
     "text": [
      "Your zodiac sign is: Gemini\n"
     ]
    }
   ],
   "source": [
    "sign_day = int(input('Please enter the day of birth\\n'))\n",
    "sign_month = str.lower(input('Please enter the Month of birth\\n'))\n",
    "if sign_month == 'march' and sign_day >= 21 or sign_month == 'april' and sign_day <= 19:\n",
    "    print('Your zodiac sign is: Aries')\n",
    "elif sign_month == 'april' and sign_day >= 20 or sign_month == 'may' and sign_day <= 20:\n",
    "    print('Your zodiac sign is: Taurus')\n",
    "elif sign_month == 'may' and sign_day >= 21 or sign_month == 'june' and sign_day <= 20:\n",
    "    print('Your zodiac sign is: Gemini')\n",
    "elif sign_month == 'june' and sign_day >= 21 or sign_month == 'july' and sign_day <= 22:\n",
    "    print('Your zodiac sign is: Cancer')\n",
    "elif sign_month == 'july' and sign_day >= 23 or sign_month == 'august' and sign_day <= 22:\n",
    "    print('Your zodiac sign is: Leo')\n",
    "elif sign_month == 'august' and sign_day >= 23 or sign_month == 'september' and sign_day <= 22:\n",
    "    print('Your zodiac sign is: Virgo')\n",
    "elif sign_month == 'september' and sign_day >= 23 or sign_month == 'october' and sign_day <= 22:\n",
    "    print('Your zodiac sign is: Libra')\n",
    "elif sign_month == 'october' and sign_day >= 23 or sign_month == 'november' and sign_day <= 21:\n",
    "    print('Your zodiac sign is: Scorpio')\n",
    "elif sign_month == 'november' and sign_day >= 22 or sign_month == 'december' and sign_day <= 21:\n",
    "    print('Your zodiac sign is: Sagittarius')\n",
    "elif sign_month == 'december' and sign_day >= 22 or sign_month == 'december' and sign_day <= 19:\n",
    "    print('Your zodiac sign is: Capricorn')\n",
    "elif sign_month == 'january' and sign_day >= 20 or sign_month == 'february' and sign_day <= 18:\n",
    "    print('Your zodiac sign is: Aquarius')\n",
    "elif sign_month == 'february' and sign_day >= 19 or sign_month == 'march' and sign_day <= 20:\n",
    "    print('Your zodiac sign is: Pisces')\n",
    "else:\n",
    "    print('data is incorrect, please try again')\n",
    "\n"
   ]
  },
  {
   "cell_type": "markdown",
   "metadata": {
    "pycharm": {
     "name": "#%% md\n"
    }
   },
   "source": [
    "## Exercise 4"
   ]
  },
  {
   "cell_type": "markdown",
   "metadata": {
    "pycharm": {
     "name": "#%% md\n"
    }
   },
   "source": [
    "You need to write the code that will choose the right package after you enter the sizing of the goods. Size (width, length, height) are saved as variables (in centimeters).\n",
    "\n",
    "Use the following rules:\n",
    "- If each of three dimensions is less or equal 15cm, then return \"Standard Box #1\";\n",
    "- If one of the dimensions is bigger than 15 cm but less than 50 cm - \"Standard Box #2\";\n",
    "- If the length of the goods is more than 2 meters, - return \"ski box\";\n",
    "- In all other cases return \"Standard Box #3\".\n",
    "\n",
    "Examples:\n",
    "1.  \n",
    "\n",
    "```\n",
    "width = 15\n",
    "length = 50\n",
    "height = 15\n",
    "```\n",
    "Result:\n",
    "`Standard Box #3`\n",
    "\n",
    "2.  \n",
    "\n",
    "```\n",
    "width = 45\n",
    "length = 205\n",
    "height = 45\n",
    "```\n",
    "Result:\n",
    "`ski box`"
   ]
  },
  {
   "cell_type": "code",
   "execution_count": 2,
   "metadata": {
    "pycharm": {
     "name": "#%%\n"
    }
   },
   "outputs": [
    {
     "name": "stdout",
     "output_type": "stream",
     "text": [
      "ski box\n"
     ]
    }
   ],
   "source": [
    "def box_checker(width, length, height):\n",
    "    if width <= 15 and length <= 15 and height <= 15:\n",
    "        print(\"Standard Box #1\")\n",
    "    elif 15 < width < 50 or 15 < length < 50 or 15 < height < 50:\n",
    "        print(\"Standard Box #2\")\n",
    "    elif length >= 200:\n",
    "        print(\"ski box\")\n",
    "    else:\n",
    "        print(\"Standard Box #3\")\n",
    "    return\n",
    "box_checker(15,200,50)"
   ]
  },
  {
   "cell_type": "markdown",
   "metadata": {
    "pycharm": {
     "name": "#%% md\n"
    }
   },
   "source": [
    "## Exercise 5 (Extra)"
   ]
  },
  {
   "cell_type": "markdown",
   "metadata": {
    "pycharm": {
     "name": "#%% md\n"
    }
   },
   "source": [
    "Дана переменная, в которой хранится шестизначное число (номер проездного билета). Напишите программу, которая будет определять, является ли данный билет \"счастливым\". Билет считается счастливым, если сумма первых трех цифр совпадает с суммой последних трех цифр номера.   \n",
    "\n",
    "Примеры работы программы:  \n",
    "1. ```number = 123456```\n",
    "\n",
    "Result:\n",
    "`Несчастливый билет`\n",
    "2. ```number = 123321```\n",
    "\n",
    "Result:\n",
    "`Счастливый билет`\n"
   ]
  },
  {
   "cell_type": "code",
   "execution_count": 118,
   "metadata": {
    "pycharm": {
     "name": "#%%\n"
    }
   },
   "outputs": [
    {
     "name": "stdout",
     "output_type": "stream",
     "text": [
      "введите номер билета:\n",
      "112301\n",
      "Счастливый билет!\n"
     ]
    }
   ],
   "source": [
    "number = str(input('введите номер билета:\\n'))\n",
    "part_1 = number[0:3]\n",
    "part_2 = number[3:7]\n",
    "part_1_check = 0\n",
    "part_2_check = 0\n",
    "for part in part_1:\n",
    "    part_1_check += int(part)\n",
    "for part in part_2:\n",
    "    part_2_check += int(part)\n",
    "if part_1_check == part_2_check:\n",
    "    print('Счастливый билет!')\n",
    "else: \n",
    "    print('Несчастливый билет')\n"
   ]
  },
  {
   "cell_type": "markdown",
   "metadata": {
    "pycharm": {
     "name": "#%% md\n"
    }
   },
   "source": [
    "## Задание 6 (Extra)"
   ]
  },
  {
   "cell_type": "markdown",
   "metadata": {
    "pycharm": {
     "name": "#%% md\n"
    }
   },
   "source": [
    "Напишите программу, которая сможет вычислять площади трех фигур (круг, треугольник и прямоугольник).\n",
    "Тип фигуры запрашиваем через пользовательский ввод, после чего делаем запрос хаCancerтеристик фигуры:\n",
    "\n",
    "- если пользователь выбрал круг, запрашиваем его радиус,\n",
    "- если треугольник – длины трех его сторон;\n",
    "- если прямоугольник – длины двух его сторон.\n",
    "\n",
    "Пример работы программы:\n",
    "1.  \n",
    "\n",
    "```\n",
    "Введите тип фигуры:\n",
    "Круг\n",
    "\n",
    "Введите радиус круга:\n",
    "10\n",
    "```\n",
    "Result:\n",
    "`Площадь круга: 314.16`\n",
    "\n",
    "2.  \n",
    "\n",
    "```\n",
    "Введите тип фигуры:\n",
    "Треугольник\n",
    "\n",
    "Введите длину стороны A:\n",
    "2\n",
    "\n",
    "Введите длину стороны B:\n",
    "2\n",
    "\n",
    "Введите длину стороны C:\n",
    "3\n",
    "```\n",
    "Result:\n",
    "`Площадь треугольника: 1.98`"
   ]
  },
  {
   "cell_type": "code",
   "execution_count": 110,
   "metadata": {
    "pycharm": {
     "name": "#%%\n"
    }
   },
   "outputs": [
    {
     "name": "stdout",
     "output_type": "stream",
     "text": [
      "Введите желаемую форму\n",
      "ТрЕуГоЛьНиК\n",
      "Введите длину стороны A:\n",
      "2\n",
      "Введите длину стороны B:\n",
      "3\n",
      "Введите длину стороны C:\n",
      "2\n",
      "площадь треугольника: 1.98\n"
     ]
    }
   ],
   "source": [
    "figure = str.lower(input('Введите желаемую форму\\n'))\n",
    "if figure == 'круг':\n",
    "    circle_area = float(input('введите радиус\\n'))**2\n",
    "    print(f'площадь круга:{circle_area}')\n",
    "elif figure == 'треугольник':\n",
    "    side_a = float(input('Введите длину стороны A:\\n'))\n",
    "    side_b = float(input('Введите длину стороны B:\\n'))\n",
    "    side_c = float(input('Введите длину стороны C:\\n'))\n",
    "    p = ((side_a + side_b + side_c) / 2)\n",
    "    triangle_area = round((p * (p - side_a) * (p - side_b) * (p - side_c)) ** 0.5, 2)\n",
    "    print(f'площадь треугольника: {triangle_area}')\n",
    "elif figure == 'прямоугольник':\n",
    "    side_a = float(input('Введите высоту:'))\n",
    "    side_b = float(input('Введите ширину:'))\n",
    "    print(f'площадь прямоугольника равна: {side_a*side_b}')\n",
    "else: \n",
    "    print('Неверно заданная фигура! Возможные фигуры: \"круг\", \"прямоугольник\" или \"треугольник\"')"
   ]
  },
  {
   "cell_type": "markdown",
   "metadata": {
    "pycharm": {
     "name": "#%% md\n"
    }
   },
   "source": [
    "#### ПРИМЕЧАНИЕ\n",
    "Домашнее задание сдается ссылкой [Google Colab](https://colab.research.google.com/).\n",
    "Не сможем проверить или помочь, если вы пришлете:\n",
    "- файлы;\n",
    "- архивы;\n",
    "- скриншоты кода.\n",
    "\n",
    "Все обсуждения и консультации по выполнению домашнего задания ведутся только на соответствующем канале в slack.\n",
    "\n",
    "##### Как правильно задавать вопросы аспирантам, преподавателям и коллегам\n",
    "Прежде чем задать вопрос, попробуйте найти ответ в интернете. Навык самостоятельного поиска информации — один из важнейших. Каждый пCancerтикующий специалист любого уровня делает это ежедневно.\n",
    "\n",
    "Сформулируйте вопрос по алгоритму:  \n",
    "1) Что я делаю?  \n",
    "2) Какого Resultа я ожидаю?\n",
    "3) Как фактический Result отличается от ожидаемого?\n",
    "4) Что я уже попробовал сделать, чтобы исправить проблему?  \n",
    "\n",
    "По возможности прикрепите к вопросу скриншоты либо ссылки на код. Не выкладывайте все решение, оставляйте только проблемный и воспроизводимый участок кода.\n"
   ]
  }
 ],
 "metadata": {
  "kernelspec": {
   "display_name": "Python 3",
   "language": "python",
   "name": "python3"
  },
  "language_info": {
   "codemirror_mode": {
    "name": "ipython",
    "version": 3
   },
   "file_extension": ".py",
   "mimetype": "text/x-python",
   "name": "python",
   "nbconvert_exporter": "python",
   "pygments_lexer": "ipython3",
   "version": "3.7.6"
  }
 },
 "nbformat": 4,
 "nbformat_minor": 2
}