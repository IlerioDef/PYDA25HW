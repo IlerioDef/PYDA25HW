{
 "cells": [
  {
   "cell_type": "markdown",
   "metadata": {},
   "source": [
    "# Домашнее задание\n",
    "1. Переведите содержимое файла purchase_log.txt в словарь purchases вида:\n",
    "```python\n",
    "{'1840e0b9d4': 'Продукты', ...}\n",
    "```\n",
    "\n",
    "2. Для каждого user_id в файле visit_log.csv добавьте третий столбец с категорией покупки (если покупка была).\n",
    "\n",
    "3. Запишите в файл funnel.csv визиты из файла visit_log.csv, в которых были покупки с указанием категории.\n",
    "\n",
    "Учтите условия на данные:\n",
    "- содержимое purchase_log.txt помещается в оперативную память компьютера\n",
    "- содержимое visit_log.csv - нет; используйте только построчную обработку этого файла"
   ]
  },
  {
   "cell_type": "code",
   "execution_count": null,
   "metadata": {},
   "outputs": [],
   "source": [
    "# 1. содержимое # Переведите содержимое файла purchase_log.txt в словарь purchases вида:\n",
    "# {'1840e0b9d4': 'Продукты', ...}\n",
    "with open('purchase_log.txt','r') as log:\n",
    "    import json\n",
    "    new_log = []\n",
    "    for line in log:\n",
    "        line = line.strip()\n",
    "        jsoned_log = json.loads(line)\n",
    "        new_log.append(jsoned_log)\n",
    "    log.close()\n",
    "purchases = {} #словарь хранится в оперативной памяти, условие исполнено(?)\n",
    "for logs in new_log:\n",
    "    purchases[logs['user_id']] = logs['category']\n",
    "\n",
    "# 2. Для каждого user_id в файле visit_log.csv добавьте третий столбец с категорией покупки (если покупка была)\n",
    "# 3. Запишите в файл funnel.csv визиты из файла visit_log.csv, в которых были покупки с указанием категории.\n",
    "with open('visit_log.csv', 'r') as visit:\n",
    "    with open('funnel.csv', 'w') as funnel:\n",
    "        for line in visit:\n",
    "            line = line.strip().split(',')\n",
    "            if line[0] in purchases.keys():\n",
    "                line.append(purchases[line[0]])\n",
    "                funnel.write(','.join(line)+\"\\n\")  \n",
    "    visit.close()\n",
    "    funnel.close()"
   ]
  }
 ],
 "metadata": {
  "kernelspec": {
   "display_name": "Python 3",
   "language": "python",
   "name": "python3"
  },
  "language_info": {
   "codemirror_mode": {
    "name": "ipython",
    "version": 3
   },
   "file_extension": ".py",
   "mimetype": "text/x-python",
   "name": "python",
   "nbconvert_exporter": "python",
   "pygments_lexer": "ipython3",
   "version": "3.8.5"
  }
 },
 "nbformat": 4,
 "nbformat_minor": 4
}
