{
 "cells": [
  {
   "cell_type": "markdown",
   "metadata": {},
   "source": [
    "# Домашнее задание к лекции \"Визуализация данных\""
   ]
  },
  {
   "cell_type": "markdown",
   "metadata": {},
   "source": [
    "## Обязательная часть\n",
    "\n",
    "Вам необходимо провести базовый [EDA](https://en.wikipedia.org/wiki/Exploratory_data_analysis) выбранного набора данных. \n",
    "\n",
    "Требования к анализу:\n",
    "- построить не менее 4 визуализаций различных видов;\n",
    "- каждая визуализация должным образом оформлена и читается даже в отрыве от контекста; \n",
    "- по каждой визуализации необходимо написать вывод (какую гипотезу на ее основе можно выдвинуть?).\n",
    "\n",
    "**Откуда брать данные?**\n",
    "\n",
    "Можете взять свои рабочие данные, либо найти открытые данные (например, на [kaggle.com](https://www.kaggle.com/)) по интересующей вас предметной области (тогда не забудьте их выложить на github вместе с ноутбуком). Если идей нет, можете взять один из перечисленных ниже:\n",
    "- [данные приложений из Google Play](https://www.kaggle.com/lava18/google-play-store-apps);\n",
    "- [данные о видео из трендов YouTube](https://www.kaggle.com/datasnaek/youtube-new);\n",
    "- [данные об уровне счастья в разных странах](https://www.kaggle.com/unsdsn/world-happiness).\n"
   ]
  },
  {
   "cell_type": "markdown",
   "metadata": {},
   "source": [
    "### Дополнительная часть (необязательная)\n",
    "\n",
    "* построить дополнительно не менее 2 визуализаций (итого не менее 6);\n",
    "* в работе должны присутствовать следующие визуализации: boxplot, heatmap, scatter plot matrix;\n"
   ]
  },
  {
   "cell_type": "markdown",
   "metadata": {},
   "source": [
    "#### ПРИМЕЧАНИЕ\n",
    "Домашнее задание сдается ссылкой [Google Colab](https://colab.research.google.com/).\n",
    "Не сможем проверить или помочь, если вы пришлете:\n",
    "- файлы;\n",
    "- архивы;\n",
    "- скриншоты кода.\n",
    "\n",
    "Все обсуждения и консультации по выполнению домашнего задания ведутся только на соответствующем канале в slack.\n",
    "\n",
    "##### Как правильно задавать вопросы аспирантам, преподавателям и коллегам\n",
    "Прежде чем задать вопрос, попробуйте найти ответ в интернете. Навык самостоятельного поиска информации — один из важнейших. Каждый практикующий специалист любого уровня делает это ежедневно.\n",
    "\n",
    "Сформулируйте вопрос по алгоритму:  \n",
    "1) Что я делаю?  \n",
    "2) Какого результата я ожидаю?  \n",
    "3) Как фактический результат отличается от ожидаемого?  \n",
    "4) Что я уже попробовал сделать, чтобы исправить проблему?  \n",
    "\n",
    "По возможности прикрепите к вопросу скриншоты либо ссылки на код. Не выкладывайте все решение, оставляйте только проблемный и воспроизводимый участок кода."
   ]
  },
  {
   "cell_type": "markdown",
   "metadata": {},
   "source": [
    "Был использован датасет [со статистическими данными](https://www.kaggle.com/augustlinnman/cholera-outbreak-stockholm-1853) версии 15 (постоянно дополняется) по смертям от холеры в Швеции в 1853 году. \n",
    "похоже, это не самый удачный датасет"
   ]
  },
  {
   "cell_type": "code",
   "execution_count": 1,
   "metadata": {},
   "outputs": [],
   "source": [
    "import pandas as pd\n",
    "from datetime import datetime \n",
    "import matplotlib.pyplot as plt\n",
    "import seaborn as sns"
   ]
  },
  {
   "cell_type": "code",
   "execution_count": 2,
   "metadata": {},
   "outputs": [],
   "source": [
    "cholera = pd.read_csv(\"https://raw.githubusercontent.com/IlerioDef/educational_data/main/kolera-katarina-1853.csv\")"
   ]
  },
  {
   "cell_type": "code",
   "execution_count": 3,
   "metadata": {},
   "outputs": [
    {
     "name": "stdout",
     "output_type": "stream",
     "text": [
      "<class 'pandas.core.frame.DataFrame'>\n",
      "RangeIndex: 545 entries, 0 to 544\n",
      "Data columns (total 8 columns):\n",
      " #   Column         Non-Null Count  Dtype         \n",
      "---  ------         --------------  -----         \n",
      " 0   Date of death  545 non-null    datetime64[ns]\n",
      " 1   Name           545 non-null    object        \n",
      " 2   Profession     543 non-null    object        \n",
      " 3   Sex            545 non-null    object        \n",
      " 4   Age            542 non-null    float64       \n",
      " 5   Data source    545 non-null    object        \n",
      " 6   Archive ref    545 non-null    object        \n",
      " 7   Page           545 non-null    object        \n",
      "dtypes: datetime64[ns](1), float64(1), object(6)\n",
      "memory usage: 34.2+ KB\n"
     ]
    }
   ],
   "source": [
    "column_names = {\n",
    "\"Dödsdatum\":\"Date of death\",\n",
    "\"Namn\":\"Name\",\n",
    "\"Yrke\":\"Profession\",\n",
    "\"Kön\": \"Sex\",\n",
    "\"Ålder\" : \"Age\",\n",
    "\"Församling\" : \"Data source\",\n",
    "\"Arkivref\" : \"Archive ref\",\n",
    "\"Sida\" : \"Page\"} \n",
    "#Переименуем столбцы на английский манер. \n",
    "cholera.rename(columns=column_names, inplace = True)\n",
    "#Изменим формат даты\n",
    "cholera[\"Date of death\"] = pd.to_datetime(cholera[\"Date of death\"],format = \"%Y-%m-%d\")\n",
    "cholera.info()\n",
    "\n",
    "\n",
    "\n",
    "#ГРАФИК Х - столбиковая диаграмма с разбивкам по возрастным и половым группам. \n"
   ]
  },
  {
   "cell_type": "code",
   "execution_count": 4,
   "metadata": {},
   "outputs": [
    {
     "data": {
      "text/plain": [
       "<matplotlib.axes._subplots.AxesSubplot at 0x7f78815b8590>"
      ]
     },
     "execution_count": 4,
     "metadata": {},
     "output_type": "execute_result"
    },
    {
     "data": {
      "image/png": "[encoded data removed]",
      "text/plain": [
       "<Figure size 432x288 with 1 Axes>"
      ]
     },
     "metadata": {
      "needs_background": "light"
     },
     "output_type": "display_data"
    }
   ],
   "source": [
    "\"\"\"\n",
    "График №1 - Линейная диаграмма. Она позволяет оценить, в какой именно \n",
    "период из рассматриваемого пришлось бОльшее количество смертей. Поскольку\n",
    "холера относится к чрезвычайно быстро прогрессирующим (~ 48 часов) заболеваниям, мы можем\n",
    "отследить пик заражения по смертям. Похоже, он приходится на 13 сентября - 01 октября 1953 года.\n",
    "\n",
    "\"\"\"\n",
    "death_rate = cholera[[\"Date of death\",\"Name\"]].groupby(\"Date of death\").count()\n",
    "death_rate.plot()"
   ]
  },
  {
   "cell_type": "code",
   "execution_count": 43,
   "metadata": {},
   "outputs": [
    {
     "data": {
      "text/plain": [
       "<matplotlib.axes._subplots.AxesSubplot at 0x7f787c37d990>"
      ]
     },
     "execution_count": 43,
     "metadata": {},
     "output_type": "execute_result"
    },
    {
     "data": {
      "image/png": "[encoded data removed]",
      "text/plain": [
       "<Figure size 432x288 with 1 Axes>"
      ]
     },
     "metadata": {
      "needs_background": "light"
     },
     "output_type": "display_data"
    }
   ],
   "source": [
    "\"\"\"\n",
    "ГРАФИК №2 - Гистограмма распределения по возрастам смерти.\n",
    "Возникает вопрос, - на какой возраст приходится наибольшая смертность?\n",
    "Гистограмма показывает, что наибольшее число смертей приходится на людей 25-40 лет. \n",
    "Это позволяет нам сделать предположение, что и с медициной, и с обеспеченностью\n",
    "чистой водой в тот период в Швеции дела обстояли не лучшим образом. Также второй\n",
    "пик приходится на наиболее трудоспособное (25-35 лет) население; возможно, это \n",
    "связано с родом деятельности? К сожадению, перевод со шведского даже гугл-переводчиком\n",
    "не позволит сделать качественный анализ в разрезе профессий, - использованы обороты и \n",
    "сокращения, которые он не способен перевести. Отдельно заслуживает внимания пик 60-тилетних.\n",
    "Возможно, эти люди находились на обеспечении членов своих семей и как и младенцы потребляли\n",
    "ту же воду. Но вследствие ранней смертности в тот период их количество не соотносится с количеством\n",
    "умерших детей?\n",
    "\n",
    "\"\"\"\n",
    "cholera[\"Age\"].plot(kind=\"hist\", title=\"распределение смертей по возрастам\", bins=20,alpha=0.5)\n"
   ]
  },
  {
   "cell_type": "code",
   "execution_count": 6,
   "metadata": {},
   "outputs": [
    {
     "data": {
      "text/plain": [
       "<matplotlib.axes._subplots.AxesSubplot at 0x7f787e2e6710>"
      ]
     },
     "execution_count": 6,
     "metadata": {},
     "output_type": "execute_result"
    },
    {
     "data": {
      "image/png": "[encoded data removed]",
      "text/plain": [
       "<Figure size 432x288 with 1 Axes>"
      ]
     },
     "metadata": {},
     "output_type": "display_data"
    }
   ],
   "source": [
    "\"\"\"\n",
    "ГРАФИК №3 - круговая диаграмма.\n",
    "Имеется ли разница по полу среди погибших? Согласно полученной диаграмме, на мужчин приходится\n",
    "большее количество смертей. С чем это может быть связано? Было ли изначально количество мужчин\n",
    "большим, нежели женщин, проживающих на местности? Или это связано с их занятостью и возможностью\n",
    "заразиться от контакта с водой?\n",
    "\"\"\"\n",
    "pie_data = cholera['Sex'].value_counts()\n",
    "pie_data.plot(kind='pie', title='Распределение по полу')"
   ]
  },
  {
   "cell_type": "code",
   "execution_count": 45,
   "metadata": {},
   "outputs": [
    {
     "data": {
      "text/plain": [
       "<matplotlib.axes._subplots.AxesSubplot at 0x7f787c1b9350>"
      ]
     },
     "execution_count": 45,
     "metadata": {},
     "output_type": "execute_result"
    },
    {
     "data": {
      "image/png": "[encoded data removed]",
      "text/plain": [
       "<Figure size 432x288 with 1 Axes>"
      ]
     },
     "metadata": {
      "needs_background": "light"
     },
     "output_type": "display_data"
    }
   ],
   "source": [
    "\"\"\"\n",
    "ГРАФИК №4 - есть ли взаимосвязь между полом, возрастом и датой смертей? \n",
    "из получаемого графика можно предположить, что мужчины умирали чаще в более молодом возрасте, нежели женщины.\n",
    "могло ли быть это связано с их родом деятельности? Или молодые женщины умирали от других причин \n",
    "в тот период чаще, например при родах?\n",
    "\"\"\"\n",
    "dead_by_sex = cholera.pivot_table(cholera,\n",
    "                                  columns=cholera[\"Sex\"],\n",
    "                                  index=cholera[\"Date of death\"],\n",
    "                                  )\n",
    "dead_men.plot(kind=\"hist\",bins=15,alpha=0.5)\n",
    "\n"
   ]
  }
 ],
 "metadata": {
  "kernelspec": {
   "display_name": "Python 3",
   "language": "python",
   "name": "python3"
  },
  "language_info": {
   "codemirror_mode": {
    "name": "ipython",
    "version": 3
   },
   "file_extension": ".py",
   "mimetype": "text/x-python",
   "name": "python",
   "nbconvert_exporter": "python",
   "pygments_lexer": "ipython3",
   "version": "3.7.6"
  }
 },
 "nbformat": 4,
 "nbformat_minor": 2
}
