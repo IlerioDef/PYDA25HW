{
 "cells": [
  {
   "cell_type": "markdown",
   "metadata": {},
   "source": [
    "## Домашнее задание к лекции «Корреляция и корреляционный анализ»\n",
    "\n",
    "    Возьмите датасет Mortality and Water Hardness**\n",
    "    https://www.kaggle.com/ukveteran/mortality-and-water-hardness\n",
    "\n",
    "    В этом датасете содержатся данные по средней годовой смертности на\n",
    "    100000 населения и концентрации кальция в питьевой воде для 61\n",
    "    большого города в Англии и Уэльсе. Города дополнительно поделены на\n",
    "    северные и южные.\n",
    "\n",
    "### Задание 1.\n",
    "#### Ответить на вопрос: есть ли связь между жёсткостью воды и средней годовой смертностью?\n",
    "\n",
    "    Построить точечный график\n",
    "    Рассчитать коэффициенты корреляции Пирсона и Спирмена\n",
    "    Построить модель линейной регрессии\n",
    "    Рассчитать коэффициент детерминации\n",
    "    Вывести график остатков\n",
    "\n",
    "### Задание 2.\n",
    "#### Ответить на вопрос: сохраняется ли аналогичная зависимость для северных и южных городов по отдельности?\n",
    "\n",
    "    Разделить данные на 2 группы\n",
    "    Повторить аналогичные шаги из пункта 1 для каждой группы по отдельности\n",
    "\n"
   ]
  },
  {
   "cell_type": "code",
   "execution_count": 1,
   "metadata": {},
   "outputs": [],
   "source": [
    "import pandas as pd\n",
    "import matplotlib.pyplot as plt\n",
    "import seaborn as sns\n",
    "from sklearn.linear_model import LinearRegression\n",
    "from sklearn.model_selection import train_test_split"
   ]
  },
  {
   "cell_type": "code",
   "execution_count": 2,
   "metadata": {},
   "outputs": [
    {
     "name": "stdout",
     "output_type": "stream",
     "text": [
      "<class 'pandas.core.frame.DataFrame'>\n",
      "RangeIndex: 61 entries, 0 to 60\n",
      "Data columns (total 4 columns):\n",
      " #   Column     Non-Null Count  Dtype \n",
      "---  ------     --------------  ----- \n",
      " 0   location   61 non-null     object\n",
      " 1   town       61 non-null     object\n",
      " 2   mortality  61 non-null     int64 \n",
      " 3   hardness   61 non-null     int64 \n",
      "dtypes: int64(2), object(2)\n",
      "memory usage: 2.0+ KB\n"
     ]
    }
   ],
   "source": [
    "import pandas as pd\n",
    "water = pd.read_csv(\"https://raw.githubusercontent.com/IlerioDef/educational_data/main/Water\")\n",
    "water.drop(\"Unnamed: 0\", axis=1, inplace=True) #удаляем ненужный индекс\n",
    "water_south = water[water[\"location\"]==\"South\"] #Заранее разделяем датафрейм на Юг\n",
    "water_north = water[water[\"location\"]==\"North\"] #и Север, для задания 2\n",
    "water.info()"
   ]
  },
  {
   "cell_type": "markdown",
   "metadata": {},
   "source": [
    "##### 1-1 Для всего датафрейма"
   ]
  },
  {
   "cell_type": "code",
   "execution_count": 3,
   "metadata": {},
   "outputs": [
    {
     "data": {
      "text/plain": [
       "(           mortality  hardness\n",
       " mortality   1.000000 -0.654849\n",
       " hardness   -0.654849  1.000000,\n",
       "            mortality  hardness\n",
       " mortality   1.000000 -0.631665\n",
       " hardness   -0.631665  1.000000)"
      ]
     },
     "execution_count": 3,
     "metadata": {},
     "output_type": "execute_result"
    },
    {
     "data": {
      "image/png": "[encoded data removed]",
      "text/plain": [
       "<Figure size 432x288 with 1 Axes>"
      ]
     },
     "metadata": {
      "needs_background": "light"
     },
     "output_type": "display_data"
    }
   ],
   "source": [
    "#Построим точечный график для всего датафрейма\n",
    "sns.scatterplot(water['mortality'],\n",
    "                water['hardness']\n",
    "               ).set(xlabel='Смертность',\n",
    "                     ylabel='Жесткость воды')\n",
    "##Связь выглядит обратной, линейной и слабовыраженной, если имеется вовсе.  \n",
    "#рассчитаем коэффициент Пирсона\n",
    "water_pearson = water.corr(method='pearson')\n",
    "# рассчитаем коэффициент Спирмена\n",
    "water_spearman = water.corr(method='spearman')\n",
    "water_pearson, water_spearman\n"
   ]
  },
  {
   "cell_type": "code",
   "execution_count": 4,
   "metadata": {},
   "outputs": [],
   "source": [
    "#сделаем заготовки для модели. Мы хотим выяснить, зависит ли смертность от жесткости воды. Поэтому У = смертность\n",
    "X = water[['hardness']]\n",
    "y = water['mortality']\n"
   ]
  },
  {
   "cell_type": "code",
   "execution_count": 5,
   "metadata": {},
   "outputs": [
    {
     "data": {
      "text/plain": [
       "((48, 1), (48,))"
      ]
     },
     "execution_count": 5,
     "metadata": {},
     "output_type": "execute_result"
    }
   ],
   "source": [
    "X_train, X_test, y_train, y_test = train_test_split(X, y, test_size=0.20, random_state=42)\n",
    "X_train.shape,y_train.shape\n"
   ]
  },
  {
   "cell_type": "code",
   "execution_count": 6,
   "metadata": {},
   "outputs": [
    {
     "data": {
      "text/plain": [
       "LinearRegression(copy_X=True, fit_intercept=True, n_jobs=None, normalize=False)"
      ]
     },
     "execution_count": 6,
     "metadata": {},
     "output_type": "execute_result"
    }
   ],
   "source": [
    "model = LinearRegression()\n",
    "model.fit(X_train, y_train)\n"
   ]
  },
  {
   "cell_type": "code",
   "execution_count": 7,
   "metadata": {},
   "outputs": [
    {
     "data": {
      "text/plain": [
       "(array([-3.28281845]), 1683.9212680875548)"
      ]
     },
     "execution_count": 7,
     "metadata": {},
     "output_type": "execute_result"
    }
   ],
   "source": [
    "model.coef_, model.intercept_\n",
    "#y = -3.2 * x + 1679.9"
   ]
  },
  {
   "cell_type": "code",
   "execution_count": 8,
   "metadata": {},
   "outputs": [
    {
     "data": {
      "text/plain": [
       "array([1339.22533049, 1651.09308355, 1637.96180974, 1539.47725614,\n",
       "       1427.86142873, 1618.26489902, 1247.30641379, 1437.70988409,\n",
       "       1614.98208057, 1664.22435737, 1490.23497934, 1418.01297337,\n",
       "       1555.89134841])"
      ]
     },
     "execution_count": 8,
     "metadata": {},
     "output_type": "execute_result"
    }
   ],
   "source": [
    "y_pred = model.predict(X_test)\n",
    "y_pred"
   ]
  },
  {
   "cell_type": "code",
   "execution_count": 9,
   "metadata": {},
   "outputs": [
    {
     "data": {
      "text/plain": [
       "0.5099679408034544"
      ]
     },
     "execution_count": 9,
     "metadata": {},
     "output_type": "execute_result"
    }
   ],
   "source": [
    "model.score(X_test, y_test) #коэффициент детерминации"
   ]
  },
  {
   "cell_type": "code",
   "execution_count": 10,
   "metadata": {},
   "outputs": [
    {
     "data": {
      "image/png": "[encoded data removed]",
      "text/plain": [
       "<Figure size 432x288 with 1 Axes>"
      ]
     },
     "metadata": {
      "needs_background": "light"
     },
     "output_type": "display_data"
    }
   ],
   "source": [
    "plt.scatter(X_test, y_test) # график отстатков\n",
    "plt.plot(X_test, y_pred, c='r')\n",
    "plt.show()"
   ]
  },
  {
   "cell_type": "markdown",
   "metadata": {},
   "source": [
    "### 1-2 Для Севера."
   ]
  },
  {
   "cell_type": "code",
   "execution_count": 11,
   "metadata": {},
   "outputs": [
    {
     "data": {
      "text/plain": [
       "[Text(0, 0.5, 'Жесткость воды'), Text(0.5, 0, 'Смертность')]"
      ]
     },
     "execution_count": 11,
     "metadata": {},
     "output_type": "execute_result"
    },
    {
     "data": {
      "image/png": "[encoded data removed]",
      "text/plain": [
       "<Figure size 432x288 with 1 Axes>"
      ]
     },
     "metadata": {
      "needs_background": "light"
     },
     "output_type": "display_data"
    }
   ],
   "source": [
    "#Построим точечный график для всего датафрейма\n",
    "sns.scatterplot(water_north['mortality'],\n",
    "                water_north['hardness']\n",
    "               ).set(xlabel='Смертность',\n",
    "                     ylabel='Жесткость воды')\n",
    "##Связь выглядит отсутствующей.  "
   ]
  },
  {
   "cell_type": "code",
   "execution_count": 12,
   "metadata": {},
   "outputs": [
    {
     "data": {
      "text/plain": [
       "(           mortality  hardness\n",
       " mortality   1.000000 -0.368598\n",
       " hardness   -0.368598  1.000000,\n",
       "            mortality  hardness\n",
       " mortality   1.000000 -0.404208\n",
       " hardness   -0.404208  1.000000)"
      ]
     },
     "execution_count": 12,
     "metadata": {},
     "output_type": "execute_result"
    }
   ],
   "source": [
    "##Связь выглядит обратной, линейной и слабовыраженной, если имеется вовсе.  \n",
    "#рассчитаем коэффициент Пирсона\n",
    "water_north_pearson = water_north.corr(method='pearson')\n",
    "# рассчитаем коэффициент Спирмена\n",
    "water_north_spearman = water_north.corr(method='spearman')\n",
    "water_north_pearson, water_north_spearman"
   ]
  },
  {
   "cell_type": "code",
   "execution_count": 13,
   "metadata": {},
   "outputs": [
    {
     "data": {
      "text/plain": [
       "(array([-2.25038888]), 1694.905301402942)"
      ]
     },
     "execution_count": 13,
     "metadata": {},
     "output_type": "execute_result"
    }
   ],
   "source": [
    "#сделаем заготовки для модели. Мы хотим выяснить, зависит ли смертность от жесткости воды. Поэтому У = смертность\n",
    "X1 = water_north[['hardness']]\n",
    "y1 = water_north['mortality']\n",
    "X1_train, X1_test, y1_train, y1_test = train_test_split(X1, y1, test_size=0.20, random_state=42)\n",
    "X1_train.shape,y1_train.shape\n",
    "model1 = LinearRegression()\n",
    "model1.fit(X1_train, y1_train)\n",
    "model1.coef_, model1.intercept_\n",
    "#y = -2.25 * x + 1694.91\n"
   ]
  },
  {
   "cell_type": "code",
   "execution_count": 14,
   "metadata": {},
   "outputs": [
    {
     "data": {
      "image/png": "[encoded data removed]",
      "text/plain": [
       "<Figure size 432x288 with 1 Axes>"
      ]
     },
     "metadata": {
      "needs_background": "light"
     },
     "output_type": "display_data"
    }
   ],
   "source": [
    "y1_pred = model1.predict(X1_test)\n",
    "y1_pred\n",
    "model1.score(X1_test, y1_test) #коэффициент детерминации\n",
    "plt.scatter(X1_test, y1_test) # график отстатков\n",
    "plt.plot(X1_test, y1_pred, c='r')\n",
    "plt.show()"
   ]
  },
  {
   "cell_type": "markdown",
   "metadata": {},
   "source": [
    "### 1-3 Для Юга"
   ]
  },
  {
   "cell_type": "code",
   "execution_count": 18,
   "metadata": {},
   "outputs": [
    {
     "data": {
      "text/plain": [
       "[Text(0, 0.5, 'Жесткость воды'), Text(0.5, 0, 'Смертность')]"
      ]
     },
     "execution_count": 18,
     "metadata": {},
     "output_type": "execute_result"
    },
    {
     "data": {
      "image/png": "[encoded data removed]",
      "text/plain": [
       "<Figure size 432x288 with 1 Axes>"
      ]
     },
     "metadata": {
      "needs_background": "light"
     },
     "output_type": "display_data"
    }
   ],
   "source": [
    "#Построим точечный график для всего датафрейма\n",
    "sns.scatterplot(water_south['mortality'],\n",
    "                water_south['hardness']\n",
    "               ).set(xlabel='Смертность',\n",
    "                     ylabel='Жесткость воды')\n",
    "##Связь выглядит отсутствующей.  "
   ]
  },
  {
   "cell_type": "code",
   "execution_count": 19,
   "metadata": {},
   "outputs": [
    {
     "data": {
      "text/plain": [
       "(           mortality  hardness\n",
       " mortality   1.000000 -0.602153\n",
       " hardness   -0.602153  1.000000,\n",
       "            mortality  hardness\n",
       " mortality   1.000000 -0.595723\n",
       " hardness   -0.595723  1.000000)"
      ]
     },
     "execution_count": 19,
     "metadata": {},
     "output_type": "execute_result"
    }
   ],
   "source": [
    "##Связь выглядит обратной, линейной и слабовыраженной, если имеется вовсе.  \n",
    "#рассчитаем коэффициент Пирсона\n",
    "water_south_pearson = water_south.corr(method='pearson')\n",
    "# рассчитаем коэффициент Спирмена\n",
    "water_south_spearman = water_south.corr(method='spearman')\n",
    "water_south_pearson, water_south_spearman"
   ]
  },
  {
   "cell_type": "code",
   "execution_count": 21,
   "metadata": {},
   "outputs": [
    {
     "data": {
      "text/plain": [
       "(array([-3.07466127]), 1595.4337548999538)"
      ]
     },
     "execution_count": 21,
     "metadata": {},
     "output_type": "execute_result"
    }
   ],
   "source": [
    "#сделаем заготовки для модели. Мы хотим выяснить, зависит ли смертность от жесткости воды. Поэтому У = смертность\n",
    "X2 = water_south[['hardness']]\n",
    "y2 = water_south['mortality']\n",
    "X2_train, X2_test, y2_train, y2_test = train_test_split(X2, y2, test_size=0.20, random_state=42)\n",
    "X2_train.shape,y2_train.shape\n",
    "model2 = LinearRegression()\n",
    "model2.fit(X2_train, y2_train)\n",
    "model2.coef_, model2.intercept_\n",
    "#y = -3.07 * x + 1595.43\n"
   ]
  },
  {
   "cell_type": "code",
   "execution_count": 22,
   "metadata": {},
   "outputs": [
    {
     "data": {
      "image/png": "[encoded data removed]",
      "text/plain": [
       "<Figure size 432x288 with 1 Axes>"
      ]
     },
     "metadata": {
      "needs_background": "light"
     },
     "output_type": "display_data"
    }
   ],
   "source": [
    "y2_pred = model2.predict(X2_test)\n",
    "y2_pred\n",
    "model2.score(X2_test, y2_test) #коэффициент детерминации\n",
    "plt.scatter(X2_test, y2_test) # график отстатков\n",
    "plt.plot(X2_test, y2_pred, c='r')\n",
    "plt.show()"
   ]
  },
  {
   "cell_type": "markdown",
   "metadata": {},
   "source": [
    "#### Ответить на вопрос: есть ли связь между жёсткостью воды и средней годовой смертностью?\n",
    "Если верить коэффицентам, то имеется умеренная обратна связь,т.к. коэффициент корреляции находится в пределах 0.3 -0.7"
   ]
  },
  {
   "cell_type": "markdown",
   "metadata": {},
   "source": [
    "#### Ответить на вопрос: сохраняется ли аналогичная зависимость для северных и южных городов по отдельности?\n",
    "сохраняется. Более того, в случае южных регионов,- эта связь яввляется более выраженной,нежели для северных. \n"
   ]
  }
 ],
 "metadata": {
  "kernelspec": {
   "display_name": "Python 3",
   "language": "python",
   "name": "python3"
  },
  "language_info": {
   "codemirror_mode": {
    "name": "ipython",
    "version": 3
   },
   "file_extension": ".py",
   "mimetype": "text/x-python",
   "name": "python",
   "nbconvert_exporter": "python",
   "pygments_lexer": "ipython3",
   "version": "3.7.6"
  }
 },
 "nbformat": 4,
 "nbformat_minor": 4
}
